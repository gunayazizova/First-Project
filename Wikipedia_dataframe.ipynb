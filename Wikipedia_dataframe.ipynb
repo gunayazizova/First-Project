{
 "cells": [
  {
   "cell_type": "code",
   "execution_count": null,
   "id": "485eca06-58f1-429d-bceb-e7ffa802f431",
   "metadata": {},
   "outputs": [],
   "source": []
  }
 ],
 "metadata": {
  "kernelspec": {
   "display_name": "",
   "name": ""
  },
  "language_info": {
   "name": ""
  }
 },
 "nbformat": 4,
 "nbformat_minor": 5
}
